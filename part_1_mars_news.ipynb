{
 "cells": [
  {
   "cell_type": "code",
   "execution_count": 9,
   "id": "f71ce0bc",
   "metadata": {},
   "outputs": [],
   "source": [
    "# Importing necessary libraries\n",
    "from bs4 import BeautifulSoup\n",
    "from splinter import Browser\n",
    "import requests\n",
    "import time"
   ]
  },
  {
   "cell_type": "code",
   "execution_count": 10,
   "id": "a022dbb3",
   "metadata": {},
   "outputs": [],
   "source": [
    "# Set up Splinter\n",
    "executable_path = {'executable_path': 'C:\\\\chromedriver_win32\\\\chromedriver.exe'}\n",
    "browser = Browser('chrome', **executable_path, headless=False)\n"
   ]
  },
  {
   "cell_type": "code",
   "execution_count": 11,
   "id": "eb1c2841",
   "metadata": {},
   "outputs": [],
   "source": [
    "# Visiting the Mars news site\n",
    "url = \"https://mars.nasa.gov/news/\"\n",
    "browser.visit(url)"
   ]
  },
  {
   "cell_type": "code",
   "execution_count": 12,
   "id": "3e4915bf",
   "metadata": {},
   "outputs": [],
   "source": [
    "# Parsing the HTML\n",
    "html = browser.html\n",
    "soup = BeautifulSoup(html, 'html.parser')"
   ]
  },
  {
   "cell_type": "code",
   "execution_count": 13,
   "id": "1f991452",
   "metadata": {},
   "outputs": [],
   "source": [
    "# Extracting the titles and preview text\n",
    "articles = soup.find_all('li', class_='slide')\n"
   ]
  },
  {
   "cell_type": "code",
   "execution_count": 15,
   "id": "387c9cb7",
   "metadata": {},
   "outputs": [],
   "source": [
    "# Empty list to hold dictionaries\n",
    "article_list = []\n",
    "\n",
    "for article in articles:\n",
    "    title = article.find('div', class_='content_title').text\n",
    "    preview = article.find('div', class_='article_teaser_body').text\n",
    "    article_dict = {'title': title, 'preview': preview}\n",
    "    article_list.append(article_dict)"
   ]
  },
  {
   "cell_type": "code",
   "execution_count": 16,
   "id": "9d589ac7",
   "metadata": {},
   "outputs": [
    {
     "name": "stdout",
     "output_type": "stream",
     "text": [
      "[{'title': \"NASA's Ingenuity Mars Helicopter Phones Home\", 'preview': 'The intrepid rotorcraft may head skyward again within the week.'}, {'title': \"NASA's MAVEN Spacecraft Stuns with Ultraviolet Views of Red Planet\", 'preview': 'NASA’s MAVEN (Mars Atmosphere and Volatile EvolutioN) mission acquired stunning views of Mars in two ultraviolet images taken at different points along our neighboring planet’s orbit around the Sun.\\r\\n\\r\\n'}, {'title': 'Landing in Living Rooms: LEGO Models of NASA Mars Rover and Helicopter', 'preview': 'A new STEM-themed kit developed in cooperation with NASA-JPL is designed to spark kids’ interest in engineering and space via traditional toys and augmented reality.'}, {'title': \"NASA's Curiosity Captures Martian Morning, Afternoon in New 'Postcard'\", 'preview': 'Lighting from two times of day was combined for a stunning view of terrain that the rover is leaving behind.'}, {'title': 'Why – and How – NASA Gives a Name to Every Spot It Studies on Mars', 'preview': 'Martian maps are full of monikers recognizing places on Earth, explorers, and even cartoon characters. '}, {'title': \"NASA's Perseverance Rover Captures View of Mars' Belva Crater\", 'preview': 'The six-wheeled scientist encountered the crater during its latest science campaign in search of rock samples that could be brought to Earth for deeper investigation.'}, {'title': \"Images From NASA's Perseverance May Show Record of Wild Martian River\", 'preview': 'Evidence left in rocks is leading scientists to rethink what watery environments looked like on ancient Mars.'}, {'title': 'NASA Retires Mineral Mapping Instrument on Mars Orbiter', 'preview': 'One of six instruments aboard the agency’s Mars Reconnaissance Orbiter, CRISM produced global maps of minerals on the Red Planet’s surface.'}, {'title': 'NASA InSight Study Provides Clearest Look Ever at Martian Core', 'preview': 'A pair of quakes in 2021 sent seismic waves deep into the Red Planet’s core, giving scientists the best data yet on its size and composition. '}, {'title': 'NASA Selects 10 Scientists for International Mission to Martian Moons ', 'preview': 'JPL’s Abigail Fraeman will help study the composition of Phobos and Deimos using instruments on the Japan Aerospace Exploration Agency’s spacecraft.\\r\\n\\r\\n'}, {'title': \"NASA's Ingenuity Mars Helicopter Completes 50th Flight\", 'preview': 'The history-making rotorcraft has recently been negotiating some of the most hazardous terrain it’s encountered on the Red Planet. '}, {'title': \"NASA's Curiosity Mars Rover Gets a Major Software Upgrade\", 'preview': 'The update brings loads of improvements, the most significant being new driving capabilities.\\r\\n'}, {'title': 'NASA to Convene Mars Sample Return Review', 'preview': 'The board, initiated by NASA, will provide added confidence that the program won’t exceed guidelines following an important upcoming milestone. '}, {'title': 'New Interactive Mosaic Uses NASA Imagery to Show Mars in Vivid Detail', 'preview': 'Both scientists and the public can navigate a new global image of the Red Planet that was made at Caltech using data from NASA’s Mars Reconnaissance Orbiter.'}, {'title': \"NASA's Perseverance Collects First Mars Sample of New Science Campaign\", 'preview': 'The rover continues its hunt for rocks worthy of bringing to Earth for further study.'}, {'title': \"Engineers Keep an Eye on Fuel Supply of NASA's Oldest Mars Orbiter\", 'preview': 'Measuring the fuel supply on a decades-old spacecraft without a fuel gauge is no easy task. '}, {'title': \"NASA's Curiosity Views First 'Sun Rays' on Mars\", 'preview': 'The veteran rover captured a dazzling sunset at the start of a new cloud-imaging campaign.'}, {'title': \"NASA's Perseverance Rover Set to Begin Third Year at Jezero Crater\", 'preview': 'After completing the first sample depot on another world, the rover continues its hunt for Mars rocks worthy of study on Earth.'}, {'title': \"NASA's Perseverance Rover Shows Off Collection of Mars Samples\", 'preview': 'The Red Planet rover snapped a portrait of the sample depot it has assembled with 10 backup sample tubes that could be returned to Earth by a future mission.'}, {'title': \"NASA's Curiosity Finds Surprise Clues to Mars' Watery Past\", 'preview': 'Among other discoveries made by the rover, rippled rock textures suggest lakes existed in a region of ancient Mars that scientists expected to be drier. '}, {'title': \"NASA's Perseverance Rover Completes Mars Sample Depot\", 'preview': 'Ten sample tubes, capturing an amazing variety of Martian geology, have been deposited on Mars’ surface so they could be studied on Earth in the future.'}, {'title': 'NASA Explores a Winter Wonderland on Mars', 'preview': 'Cube-shaped snow, icy landscapes, and frost are all part of the Red Planet’s coldest season.'}, {'title': \"NASA's Perseverance Rover Deposits First Sample on Mars Surface \", 'preview': 'Filled with rock, the sample tube will be one of 10 forming a depot of tubes that could be considered for a journey to Earth by the Mars Sample Return campaign.'}, {'title': 'NASA Retires InSight Mars Lander Mission After Years of Science', 'preview': 'The mission has concluded that the solar-powered lander has run out of energy after more than four years on the Red Planet.'}, {'title': \"NASA's Perseverance Rover to Begin Building Martian Sample Depot\", 'preview': 'The 10 sample tubes being dropped on Mars’ surface so they can be studied on Earth in the future carry an amazing diversity of Red Planet geology.'}, {'title': \"NASA's Perseverance Rover Gets the Dirt on Mars\", 'preview': 'The mission’s first two samples of regolith – broken rock and dust – could help scientists better understand the Red Planet and engineers prepare for future missions there.'}, {'title': \"NASA's Perseverance Rover Investigates Intriguing Martian Bedrock\", 'preview': 'Exploring a sediment-rich location in this Mars delta offers tantalizing opportunities for the six-wheeler’s science team.'}, {'title': \"NASA's MAVEN Observes Martian Light Show Caused by Major Solar Storm\", 'preview': 'For the first time in its eight years orbiting Mars, NASA’s MAVEN mission witnessed two different types of ultraviolet aurorae simultaneously, the result of solar storms that began on Aug. 27.'}, {'title': \"NASA Prepares to Say 'Farewell' to InSight Spacecraft\", 'preview': 'A closer look at what goes into wrapping up the mission as the spacecraft’s power supply continues to dwindle.'}, {'title': 'NASA and ESA Agree on Next Steps to Return Mars Samples to Earth', 'preview': 'The agency’s Perseverance rover will establish the first sample depot on Mars.'}, {'title': \"NASA's InSight Lander Detects Stunning Meteoroid Impact on Mars\", 'preview': 'The agency’s lander felt the ground shake during the impact while cameras aboard the Mars Reconnaissance Orbiter spotted the yawning new crater from space.'}, {'title': 'NASA To Host Briefing on InSight, Mars Reconnaissance Orbiter Findings', 'preview': 'Scientists from two Mars missions will discuss how they combined images and data for a major finding on the Red Planet.'}, {'title': 'Why NASA Is Trying To Crash Land on Mars', 'preview': 'Like a car’s crumple zone, the experimental SHIELD lander is designed to absorb a hard impact.'}, {'title': 'Curiosity Mars Rover Reaches Long-Awaited Salty Region', 'preview': 'After years of climbing, the Mars rover has arrived at a special region believed to have formed as Mars’ climate was drying.'}, {'title': 'Mars Mission Shields Up for Tests', 'preview': 'Protecting Mars Sample Return spacecraft from micrometeorites requires high-caliber work.'}, {'title': \"NASA's InSight Waits Out Dust Storm\", 'preview': 'InSight’s team is taking steps to help the solar-powered lander continue operating for as long as possible. '}, {'title': \"NASA's InSight 'Hears' Its First Meteoroid Impacts on Mars\", 'preview': 'The Mars lander’s seismometer has picked up vibrations from four separate impacts in the past two years.'}, {'title': \"NASA's Perseverance Rover Investigates Geologically Rich Mars Terrain\", 'preview': 'The latest findings provide greater detail on a region of the Red Planet that has a watery past and is yielding promising samples for the NASA-ESA Mars Sample Return campaign.'}, {'title': 'NASA to Host Briefing on Perseverance Mars Rover Mission Operations', 'preview': 'Members of the mission will discuss the rover’s activities as it gathers samples in an ancient river delta.'}, {'title': \"NASA's Perseverance Makes New Discoveries in Mars' Jezero Crater\", 'preview': 'The rover found that Jezero Crater’s floor is made up of volcanic rocks that have interacted with water.'}]\n"
     ]
    }
   ],
   "source": [
    "# Printing the list\n",
    "print(article_list)"
   ]
  },
  {
   "cell_type": "code",
   "execution_count": null,
   "id": "fd7b5ee2",
   "metadata": {},
   "outputs": [],
   "source": [
    "# Closing the browser\n",
    "browser.quit()"
   ]
  }
 ],
 "metadata": {
  "kernelspec": {
   "display_name": "Python 3 (ipykernel)",
   "language": "python",
   "name": "python3"
  },
  "language_info": {
   "codemirror_mode": {
    "name": "ipython",
    "version": 3
   },
   "file_extension": ".py",
   "mimetype": "text/x-python",
   "name": "python",
   "nbconvert_exporter": "python",
   "pygments_lexer": "ipython3",
   "version": "3.8.16"
  }
 },
 "nbformat": 4,
 "nbformat_minor": 5
}
